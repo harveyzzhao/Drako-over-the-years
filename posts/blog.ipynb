{
 "cells": [
  {
   "cell_type": "markdown",
   "metadata": {},
   "source": [
    "---\n",
    "title: \"Drake Over the Years\"\n",
    "description: \"Final Project for DH140\" author: \"Harvey Zhao\"\n",
    "date: \"08/01/2024\" date-modified: \"08/01/2024\"\n",
    "---"
   ]
  },
  {
   "cell_type": "markdown",
   "metadata": {},
   "source": [
    "# Dividing Drake's Career into Eras"
   ]
  },
  {
   "cell_type": "markdown",
   "metadata": {},
   "source": [
    "## Introduction"
   ]
  },
  {
   "cell_type": "markdown",
   "metadata": {},
   "source": [
    "Drake has been on the news lately for shameful reasons. His career has taken a hit from his allegedly impure relationship with minors. This was hard to bear, since I am a big fan of Drake's smooth chorus and catchy lyrics. Although his future looks uncertain, Drake has had his ups and downs since he began rapping. I want to dive deep into over 200 of his songs **between 2007 and 2018**, analyze their **emotion, recurring theme and linguistic complexity** to roughly sort his career into eras. My research question is *How have the emotion, recurring themes, and linguistic complexity in Drake's lyrics evolved between 2007 and 2018, and can these changes be used to delineate distinct eras in his musical career?* "
   ]
  },
  {
   "cell_type": "markdown",
   "metadata": {},
   "source": [
    "<div>\n",
    "  <img src=\"https://coronadoexplorer.com/wp-content/uploads/2023/08/Drake-e1693935526783.png\" height=\"200px\"></img>\n",
    "</div>\n",
    "\n",
    "OG Drake fans reached a concensus on Drake's eras. \n",
    "### Sentimental youngin: 2007-2010\n",
    "in his early career, from 2007 to 2010, his work particularly with the release of *So Far Gone* in 2009, was characterized by vulnerability and introspection, laying the groundwork for his distinctive fusion of rap and R&B.\n",
    "\n",
    "### Lady's man: 2010-2012\n",
    "With the release of *Thank Me Later* in 2010 and *Take Care* in 2011, Drake refined his production added in a rich tapestry of Jamaican musical style. He became the street-smart Canadian kid that understands women.\n",
    "\n",
    "### Pop-Icon: 2013-2015\n",
    "During the era from 2013 to 2015, Drake finally came on top with hits like *Hold On, We’re Going Home* and *Hotline Bling*. He was more hesitant to release new albums and was more lyrical. Drake's fans think this era was his golden age - when he was positive and didn't flash money or use women as his music appeal. Drake's lyrics during this time often focused on the themes of fame, success, and the challenges that accompany them. He explored the highs and lows of his celebrity status, showcasing a more polished and refined musical style. Critics noted how he combined catchy hooks with introspective verses, allowing listeners to connect with his experiences while also enjoying the infectious rhythms.\n",
    "\n",
    "Let's find out whether Drake changed over the years through his lyrics."
   ]
  }
 ],
 "metadata": {
  "language_info": {
   "name": "python"
  }
 },
 "nbformat": 4,
 "nbformat_minor": 2
}
