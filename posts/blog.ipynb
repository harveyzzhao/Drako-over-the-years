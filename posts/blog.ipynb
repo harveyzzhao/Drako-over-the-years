{
 "cells": [
  {
   "cell_type": "markdown",
   "metadata": {},
   "source": [
    "---\n",
    "title: \"Dividing Drake's Career into Eras\"\n",
    "description: \"Final Project for DH140\"\n",
    "author: \"Harvey Zhao\"\n",
    "date: \"08/01/2024\"\n",
    "date-modified: \"08/01/2024\"\n",
    "---"
   ]
  },
  {
   "cell_type": "markdown",
   "metadata": {},
   "source": [
    "## Introduction"
   ]
  },
  {
   "cell_type": "markdown",
   "metadata": {},
   "source": [
    "Drake has been on the news lately for shameful reasons. His career has taken a hit from his allegedly impure relationship with minors. This was hard to bear, since I am a big fan of Drake's smooth chorus and catchy lyrics. Although his future looks uncertain, Drake has had his ups and downs since he began rapping. I want to dive deep into over 200 of his songs **between 2007 and 2018**, analyze their **emotion, recurring theme and linguistic complexity** to roughly sort his career into eras. My research question is *How have the emotion, recurring themes, and linguistic complexity in Drake's lyrics evolved between 2007 and 2018, and can these changes be used to delineate distinct eras in his musical career?* "
   ]
  },
  {
   "cell_type": "markdown",
   "metadata": {},
   "source": [
    "<div>\n",
    "  <img src=\"https://coronadoexplorer.com/wp-content/uploads/2023/08/Drake-e1693935526783.png\" height=\"200px\"></img>\n",
    "</div>\n",
    "\n",
    "OG Drake fans reached a concensus on Drake's eras. \n",
    "### Sentimental youngin: 2007-2010\n",
    "in his early career, from 2007 to 2010, his work particularly with the release of *So Far Gone* in 2009, was characterized by vulnerability and introspection, laying the groundwork for his distinctive fusion of rap and R&B.\n",
    "\n",
    "### Lady's man: 2010-2012\n",
    "With the release of *Thank Me Later* in 2010 and *Take Care* in 2011, Drake refined his production added in a rich tapestry of Jamaican musical style. He became the street-smart Canadian kid that understands women.\n",
    "\n",
    "### Pop-Icon: 2013-2015\n",
    "During the era from 2013 to 2015, Drake finally came on top with hits like *Hold On, We’re Going Home* and *Hotline Bling*. He was more hesitant to release new albums and was more lyrical. Drake's fans think this era was his golden age - when he was positive and didn't flash money or use women as his music appeal. Drake's lyrics during this time often focused on the themes of fame, success, and the challenges that accompany them. He explored the highs and lows of his celebrity status, showcasing a more polished and refined musical style. Critics noted how he combined catchy hooks with introspective verses, allowing listeners to connect with his experiences while also enjoying the infectious rhythms.\n",
    "\n",
    "Let's find out whether Drake changed over the years through his lyrics."
   ]
  },
  {
   "cell_type": "markdown",
   "metadata": {},
   "source": [
    "## Methods"
   ]
  },
  {
   "cell_type": "markdown",
   "metadata": {},
   "source": [
    "Between 2009 and 2018, I scraped all Drake lyrics available on Genius using the lyricsGenius library. The dataset, **comprising over 500 songs, includes details such as song name, album, year of release, and complete lyrics.**\n",
    "\n",
    "In my exploratory analysis, I focused on the number of songs per album, yearly release trends, and word count distribution across Drake's discography. Additionally, I identified songs with the highest and lowest word counts.\n",
    "\n",
    "**In my deeper analysis, I focused on calculating sentiment of individual Drake songs through 2 popular NLP libraries. I got an idea of negative, positive and neutral sentiment through exploring 3 songs in each category. Then, I computed 2 graphs - how Drake songs' sentiment varies every year, and how earlier albums' sentiments compare to later albums. Through some pattern recognition and digging of his life events, I found 4 distinct periods in Drake's music career.**\n",
    "\n",
    "However, the dataset presented challenges. While there are over 500 rows, only 221 have complete data. Missing information, mainly release dates and album names, was common, especially for singles. Given that singles are a critical aspect of modern music distribution, this posed a potential issue. Some songs might have been excluded due to missing release dates or album associations.\n",
    "\n",
    "The scraping process itself was imperfect. Using an older version of lyricsgenius, I encountered issues like non-lyrical annotations (e.g., [Intro], \\n) embedded in the lyrics. With limited experience in advanced data cleaning, some noise, redundant characters, and annotations likely slipped through.\n",
    "\n",
    "Cleaning the dataset was a challenging task. Out of the initial 500+ songs, I filtered out around 300 tracks that were duplicates, live versions, or diss tracks. Despite the simplicity of the API, the cleaning process demanded considerable effort to handle the noise and ensure data quality."
   ]
  },
  {
   "cell_type": "markdown",
   "metadata": {},
   "source": [
    "### Getting the dataset"
   ]
  },
  {
   "cell_type": "code",
   "execution_count": null,
   "metadata": {},
   "outputs": [],
   "source": [
    "# scraping data\n",
    "from lyricsgenius import Genius\n",
    "\n",
    "TOKEN = \"REDACTED\"\n",
    "genius = Genius(TOKEN)\n",
    "genius.excluded_terms = [\"Remix\", \"Live\", \"Untitled\", \"u00e7e \", \"Separate LivesVer\", \"Mashup\", \"Freestyle\", \"Leak\",\n",
    "                      \"Diss\", \"Award\", \"Verse\", \"Dub\", \"Demo\", \"Awards\", \"Length\", \"Zin\", \"#\", \"version\", None]\n",
    "artist = genius.search_artist(\"Drake\", max_songs=1)\n",
    "lyrics = artist.save_lyrics()"
   ]
  },
  {
   "cell_type": "markdown",
   "metadata": {},
   "source": [
    "# create file paths + dataframe\n",
    "import os\n",
    "import glob\n",
    "import json\n",
    "import pandas as pd\n",
    "\n",
    "path = './lyrics_files'\n",
    "data_list = []\n",
    "\n",
    "# Read and process JSON files\n",
    "for filename in glob.glob(os.path.join(path, '*.json')):  # Only process .JSON files in the folder\n",
    "  with open(filename, encoding='utf-8', mode='r') as json_file:\n",
    "    data = json.load(json_file)\n",
    "    songs = data.get('songs', [])\n",
    "    for song in songs:\n",
    "      data_list.append({\n",
    "        'name': song.get('title'),\n",
    "        'album': song.get('album'),\n",
    "        'year': song.get('year'),\n",
    "        'lyrics': song.get('lyrics')\n",
    "      })\n",
    "\n",
    "# Create DataFrame\n",
    "lyrics_df = pd.DataFrame(data_list, columns=['name', 'album', 'year', 'lyrics'])"
   ]
  },
  {
   "cell_type": "markdown",
   "metadata": {},
   "source": [
    "Here were the first 10 rows of the raw scraped dataset:"
   ]
  },
  {
   "cell_type": "code",
   "execution_count": null,
   "metadata": {},
   "outputs": [
    {
     "data": {
      "text/html": [
       "<div>\n",
       "<style scoped>\n",
       "    .dataframe tbody tr th:only-of-type {\n",
       "        vertical-align: middle;\n",
       "    }\n",
       "\n",
       "    .dataframe tbody tr th {\n",
       "        vertical-align: top;\n",
       "    }\n",
       "\n",
       "    .dataframe thead th {\n",
       "        text-align: right;\n",
       "    }\n",
       "</style>\n",
       "<table border=\"1\" class=\"dataframe\">\n",
       "  <thead>\n",
       "    <tr style=\"text-align: right;\">\n",
       "      <th></th>\n",
       "      <th>name</th>\n",
       "      <th>album</th>\n",
       "      <th>year</th>\n",
       "      <th>lyrics</th>\n",
       "    </tr>\n",
       "  </thead>\n",
       "  <tbody>\n",
       "    <tr>\n",
       "      <th>0</th>\n",
       "      <td>Good Ones Go (Interlude)</td>\n",
       "      <td>Take Care</td>\n",
       "      <td>2011-11-15</td>\n",
       "      <td>[Intro]\\nOh yeah\\nOh yeah, oh yeah, oh\\nOh yea...</td>\n",
       "    </tr>\n",
       "    <tr>\n",
       "      <th>1</th>\n",
       "      <td>Keep the Family Close</td>\n",
       "      <td>Views</td>\n",
       "      <td>2016-04-29</td>\n",
       "      <td>[Intro]\\nIt's a little chilly out there\\nHow y...</td>\n",
       "    </tr>\n",
       "    <tr>\n",
       "      <th>2</th>\n",
       "      <td>Using Me</td>\n",
       "      <td>None</td>\n",
       "      <td>None</td>\n",
       "      <td>Yeah\\n6 shit\\n\\nBeen with so many women I can’...</td>\n",
       "    </tr>\n",
       "    <tr>\n",
       "      <th>3</th>\n",
       "      <td>Light Up</td>\n",
       "      <td>Thank Me Later</td>\n",
       "      <td>2010-06-15</td>\n",
       "      <td>[Verse 1: Drake]\\nUh, I've been up for four da...</td>\n",
       "    </tr>\n",
       "    <tr>\n",
       "      <th>4</th>\n",
       "      <td>Catch No Feelings</td>\n",
       "      <td>None</td>\n",
       "      <td>None</td>\n",
       "      <td>[Drake]\\nI told you from the jump, me and you ...</td>\n",
       "    </tr>\n",
       "    <tr>\n",
       "      <th>5</th>\n",
       "      <td>These Days</td>\n",
       "      <td>None</td>\n",
       "      <td>2016-03-29</td>\n",
       "      <td>[Verse 1]\\nI've been out walking\\nI don't do t...</td>\n",
       "    </tr>\n",
       "    <tr>\n",
       "      <th>6</th>\n",
       "      <td>Overdose On Life</td>\n",
       "      <td>None</td>\n",
       "      <td>2008-04-30</td>\n",
       "      <td>And I'm a leave on one more note\\nOne more mot...</td>\n",
       "    </tr>\n",
       "    <tr>\n",
       "      <th>7</th>\n",
       "      <td>Talk Up</td>\n",
       "      <td>Scorpion</td>\n",
       "      <td>2018-06-29</td>\n",
       "      <td>[Intro: Drake]\\nDJ Paul\\nTWhy\\nAyy, ayy\\nLot o...</td>\n",
       "    </tr>\n",
       "    <tr>\n",
       "      <th>8</th>\n",
       "      <td>Cannonball</td>\n",
       "      <td>Heartbreak Drake</td>\n",
       "      <td>None</td>\n",
       "      <td>[Chorus: Colin Munroe]\\nHow could I fly, but l...</td>\n",
       "    </tr>\n",
       "    <tr>\n",
       "      <th>9</th>\n",
       "      <td>Thank You Note to 40</td>\n",
       "      <td>None</td>\n",
       "      <td>2016-04-28</td>\n",
       "      <td>Before we do this I just wanna say thanks man....</td>\n",
       "    </tr>\n",
       "  </tbody>\n",
       "</table>\n",
       "</div>"
      ],
      "text/plain": [
       "                       name             album        year  \\\n",
       "0  Good Ones Go (Interlude)         Take Care  2011-11-15   \n",
       "1     Keep the Family Close             Views  2016-04-29   \n",
       "2                  Using Me              None        None   \n",
       "3                  Light Up    Thank Me Later  2010-06-15   \n",
       "4         Catch No Feelings              None        None   \n",
       "5                These Days              None  2016-03-29   \n",
       "6          Overdose On Life              None  2008-04-30   \n",
       "7                   Talk Up          Scorpion  2018-06-29   \n",
       "8                Cannonball  Heartbreak Drake        None   \n",
       "9      Thank You Note to 40              None  2016-04-28   \n",
       "\n",
       "                                              lyrics  \n",
       "0  [Intro]\\nOh yeah\\nOh yeah, oh yeah, oh\\nOh yea...  \n",
       "1  [Intro]\\nIt's a little chilly out there\\nHow y...  \n",
       "2  Yeah\\n6 shit\\n\\nBeen with so many women I can’...  \n",
       "3  [Verse 1: Drake]\\nUh, I've been up for four da...  \n",
       "4  [Drake]\\nI told you from the jump, me and you ...  \n",
       "5  [Verse 1]\\nI've been out walking\\nI don't do t...  \n",
       "6  And I'm a leave on one more note\\nOne more mot...  \n",
       "7  [Intro: Drake]\\nDJ Paul\\nTWhy\\nAyy, ayy\\nLot o...  \n",
       "8  [Chorus: Colin Munroe]\\nHow could I fly, but l...  \n",
       "9  Before we do this I just wanna say thanks man....  "
      ]
     },
     "metadata": {},
     "output_type": "display_data"
    }
   ],
   "source": [
    "lyrics_df.head(10)"
   ]
  },
  {
   "cell_type": "markdown",
   "metadata": {},
   "source": [
    "We are getting a lot of null values in album and year. We will only keep offically released songs for analysis, so any songs without an album or a release date needs to be gone."
   ]
  },
  {
   "cell_type": "markdown",
   "metadata": {},
   "source": [
    "### Cleaning Dataset"
   ]
  },
  {
   "cell_type": "code",
   "execution_count": null,
   "metadata": {},
   "outputs": [
    {
     "name": "stdout",
     "output_type": "stream",
     "text": [
      "<class 'pandas.core.frame.DataFrame'>\n",
      "Index: 221 entries, 0 to 390\n",
      "Data columns (total 4 columns):\n",
      " #   Column  Non-Null Count  Dtype \n",
      "---  ------  --------------  ----- \n",
      " 0   name    221 non-null    object\n",
      " 1   album   221 non-null    object\n",
      " 2   year    221 non-null    object\n",
      " 3   lyrics  221 non-null    object\n",
      "dtypes: object(4)\n",
      "memory usage: 8.6+ KB\n"
     ]
    }
   ],
   "source": [
    "# remove all rows that have null values\n",
    "lyrics_df = lyrics_df.dropna(how='any', axis=0)\n",
    "lyrics_df.info()"
   ]
  },
  {
   "cell_type": "markdown",
   "metadata": {},
   "source": [
    "Voila, we dropped almost half of the entire database and retained 221 valid songs Drake released. Let's take a look at the first 5 rows:"
   ]
  },
  {
   "cell_type": "code",
   "execution_count": null,
   "metadata": {},
   "outputs": [
    {
     "data": {
      "text/html": [
       "<div>\n",
       "<style scoped>\n",
       "    .dataframe tbody tr th:only-of-type {\n",
       "        vertical-align: middle;\n",
       "    }\n",
       "\n",
       "    .dataframe tbody tr th {\n",
       "        vertical-align: top;\n",
       "    }\n",
       "\n",
       "    .dataframe thead th {\n",
       "        text-align: right;\n",
       "    }\n",
       "</style>\n",
       "<table border=\"1\" class=\"dataframe\">\n",
       "  <thead>\n",
       "    <tr style=\"text-align: right;\">\n",
       "      <th></th>\n",
       "      <th>name</th>\n",
       "      <th>album</th>\n",
       "      <th>year</th>\n",
       "      <th>lyrics</th>\n",
       "    </tr>\n",
       "  </thead>\n",
       "  <tbody>\n",
       "    <tr>\n",
       "      <th>0</th>\n",
       "      <td>Good Ones Go (Interlude)</td>\n",
       "      <td>Take Care</td>\n",
       "      <td>2011-11-15</td>\n",
       "      <td>[Intro]\\nOh yeah\\nOh yeah, oh yeah, oh\\nOh yea...</td>\n",
       "    </tr>\n",
       "    <tr>\n",
       "      <th>1</th>\n",
       "      <td>Keep the Family Close</td>\n",
       "      <td>Views</td>\n",
       "      <td>2016-04-29</td>\n",
       "      <td>[Intro]\\nIt's a little chilly out there\\nHow y...</td>\n",
       "    </tr>\n",
       "    <tr>\n",
       "      <th>3</th>\n",
       "      <td>Light Up</td>\n",
       "      <td>Thank Me Later</td>\n",
       "      <td>2010-06-15</td>\n",
       "      <td>[Verse 1: Drake]\\nUh, I've been up for four da...</td>\n",
       "    </tr>\n",
       "    <tr>\n",
       "      <th>7</th>\n",
       "      <td>Talk Up</td>\n",
       "      <td>Scorpion</td>\n",
       "      <td>2018-06-29</td>\n",
       "      <td>[Intro: Drake]\\nDJ Paul\\nTWhy\\nAyy, ayy\\nLot o...</td>\n",
       "    </tr>\n",
       "    <tr>\n",
       "      <th>10</th>\n",
       "      <td>Juice</td>\n",
       "      <td>Born Successful</td>\n",
       "      <td>2009-12-11</td>\n",
       "      <td>[Produced by Boi-1da]\\n\\n[Intro]\\nBoi-1da... D...</td>\n",
       "    </tr>\n",
       "  </tbody>\n",
       "</table>\n",
       "</div>"
      ],
      "text/plain": [
       "                        name            album        year  \\\n",
       "0   Good Ones Go (Interlude)        Take Care  2011-11-15   \n",
       "1      Keep the Family Close            Views  2016-04-29   \n",
       "3                   Light Up   Thank Me Later  2010-06-15   \n",
       "7                    Talk Up         Scorpion  2018-06-29   \n",
       "10                     Juice  Born Successful  2009-12-11   \n",
       "\n",
       "                                               lyrics  \n",
       "0   [Intro]\\nOh yeah\\nOh yeah, oh yeah, oh\\nOh yea...  \n",
       "1   [Intro]\\nIt's a little chilly out there\\nHow y...  \n",
       "3   [Verse 1: Drake]\\nUh, I've been up for four da...  \n",
       "7   [Intro: Drake]\\nDJ Paul\\nTWhy\\nAyy, ayy\\nLot o...  \n",
       "10  [Produced by Boi-1da]\\n\\n[Intro]\\nBoi-1da... D...  "
      ]
     },
     "metadata": {},
     "output_type": "display_data"
    }
   ],
   "source": [
    "lyrics_df.head()"
   ]
  },
  {
   "cell_type": "markdown",
   "metadata": {},
   "source": [
    "I was debating whether I should include the month and date of release. However, Drake releases often and emotion of his songs fluctuates frequently. We happen to have a 200+ row dataset that spans 10+ years. Let's remove the month and date for every song's release date."
   ]
  },
  {
   "cell_type": "code",
   "execution_count": null,
   "metadata": {},
   "outputs": [
    {
     "data": {
      "text/html": [
       "<div>\n",
       "<style scoped>\n",
       "    .dataframe tbody tr th:only-of-type {\n",
       "        vertical-align: middle;\n",
       "    }\n",
       "\n",
       "    .dataframe tbody tr th {\n",
       "        vertical-align: top;\n",
       "    }\n",
       "\n",
       "    .dataframe thead th {\n",
       "        text-align: right;\n",
       "    }\n",
       "</style>\n",
       "<table border=\"1\" class=\"dataframe\">\n",
       "  <thead>\n",
       "    <tr style=\"text-align: right;\">\n",
       "      <th></th>\n",
       "      <th>name</th>\n",
       "      <th>album</th>\n",
       "      <th>year</th>\n",
       "      <th>lyrics</th>\n",
       "    </tr>\n",
       "  </thead>\n",
       "  <tbody>\n",
       "    <tr>\n",
       "      <th>155</th>\n",
       "      <td>Right to Left</td>\n",
       "      <td>Born Successful</td>\n",
       "      <td>2009</td>\n",
       "      <td>[Intro]\\n[?]\\n\\n[Chorus: Drake]\\nBlue green je...</td>\n",
       "    </tr>\n",
       "    <tr>\n",
       "      <th>200</th>\n",
       "      <td>Forever (Born Successful)</td>\n",
       "      <td>Born Successful</td>\n",
       "      <td>2009</td>\n",
       "      <td>[Chorus: Drake]\\nIt may not mean nothing to y'...</td>\n",
       "    </tr>\n",
       "    <tr>\n",
       "      <th>189</th>\n",
       "      <td>The Winner</td>\n",
       "      <td>Born Successful</td>\n",
       "      <td>2009</td>\n",
       "      <td>[Verse 1]\\nI’m performing tonight you know tha...</td>\n",
       "    </tr>\n",
       "    <tr>\n",
       "      <th>181</th>\n",
       "      <td>I Do This</td>\n",
       "      <td>Born Successful</td>\n",
       "      <td>2009</td>\n",
       "      <td>[Verse 1: Drake]\\nUh, shit's all good\\nThe dea...</td>\n",
       "    </tr>\n",
       "    <tr>\n",
       "      <th>120</th>\n",
       "      <td>Fallen</td>\n",
       "      <td>Born Successful</td>\n",
       "      <td>2009</td>\n",
       "      <td>[Intro: Drake]\\nYeah, it's Drake, KC\\n\\n[Verse...</td>\n",
       "    </tr>\n",
       "  </tbody>\n",
       "</table>\n",
       "</div>"
      ],
      "text/plain": [
       "                          name            album  year  \\\n",
       "155              Right to Left  Born Successful  2009   \n",
       "200  Forever (Born Successful)  Born Successful  2009   \n",
       "189                 The Winner  Born Successful  2009   \n",
       "181                  I Do This  Born Successful  2009   \n",
       "120                     Fallen  Born Successful  2009   \n",
       "\n",
       "                                                lyrics  \n",
       "155  [Intro]\\n[?]\\n\\n[Chorus: Drake]\\nBlue green je...  \n",
       "200  [Chorus: Drake]\\nIt may not mean nothing to y'...  \n",
       "189  [Verse 1]\\nI’m performing tonight you know tha...  \n",
       "181  [Verse 1: Drake]\\nUh, shit's all good\\nThe dea...  \n",
       "120  [Intro: Drake]\\nYeah, it's Drake, KC\\n\\n[Verse...  "
      ]
     },
     "metadata": {},
     "output_type": "display_data"
    }
   ],
   "source": [
    "lyrics_df['year'] = pd.to_datetime(lyrics_df['year']).dt.strftime('%Y')\n",
    "lyrics_df = lyrics_df.sort_values('album')\n",
    "lyrics_df.head()"
   ]
  },
  {
   "cell_type": "markdown",
   "metadata": {},
   "source": [
    "The scraped lyrics contain special characters like *\\n* and *[intro]*. Let's try clean up the lyrics so we get exactly what Drake raps. We will use regex to filter out structure words like \"outro\", \"chorus\" and \"intro\" and do some other magic on a few songs that we have to clean up manually. "
   ]
  },
  {
   "cell_type": "code",
   "execution_count": null,
   "metadata": {},
   "outputs": [],
   "source": [
    "import re\n",
    "\n",
    "def clean_lyrics(lyrics):\n",
    "    if not lyrics:\n",
    "        return lyrics\n",
    "\n",
    "    # Remove apostrophes\n",
    "    lyrics = lyrics.replace(\"'\", \"\")\n",
    "\n",
    "    # Remove song structure tags or instructions in brackets\n",
    "    lyrics = re.sub(r'[\\*\\[\\(\\{].*?[\\*\\]\\)\\}]', ' ', lyrics)\n",
    "    \n",
    "    # Remove variations of Verse 1, VERSE 2, etc.\n",
    "    lyrics = re.sub(r'\\b[Vv]erse \\d+\\b', '', lyrics)\n",
    "    \n",
    "    # Remove specific structure markers formatted as all caps without brackets\n",
    "    structure_words = ['OUTRO', 'INSTRUMENTAL', 'PRE', 'HOOK', 'PRODUCED', 'REFRAIN', \n",
    "                       'POST', 'REPEAT', '2x', '3x', '4x', 'CHORUS', 'INTRO', 'INTERLUDE']\n",
    "    for word in structure_words:\n",
    "        lyrics = lyrics.replace(word, '')\n",
    "    \n",
    "    # Remove variations of Chorus, Intro, Instrumental, Bridge, Hook, Repeat\n",
    "    lyrics = re.sub(r'\\b[Cc]horus\\b.*', '', lyrics)\n",
    "    lyrics = re.sub(r'\\b[Ii]ntro\\b.*', '', lyrics)\n",
    "    lyrics = re.sub(r'\\b[Ii]nstrumental\\b.*', '', lyrics)\n",
    "    lyrics = re.sub(r'\\b[Bb]ridge\\b.*', '', lyrics)\n",
    "    lyrics = re.sub(r'\\b[Hh]ook\\b.*', '', lyrics)\n",
    "    lyrics = re.sub(r'\\b[Rr]epeat\\b.*', '', lyrics)\n",
    "\n",
    "    # Remove credits\n",
    "    lyrics = re.sub(r'.*[Pp]roduced [Bb]y.*', ' ', lyrics)\n",
    "    lyrics = re.sub(r'.*[Ww]ritten [Bb]y.*', ' ', lyrics)\n",
    "    \n",
    "    # Remove strays and typos\n",
    "    stray_patterns = [\n",
    "        r'\\[Outro\\[', r'Sax & background & instrumental\\)', r'\\nSource: ', \n",
    "        r'Shotgun 2: 58 Trk 1 \\n  \\nJr. Walker & The All Stars \\nAnd/or The Funk Brothers - instrumental \\nPop Chart #4 Feb 13, 1965 \\nSoul Label - 35008 \\n ',\n",
    "        r'- musical interlude -', r'\\nRefrain:'\n",
    "    ]\n",
    "    for pattern in stray_patterns:\n",
    "        lyrics = re.sub(pattern, ' ', lyrics)\n",
    "    \n",
    "    # Replace all punctuations with spaces\n",
    "    lyrics = re.sub(r'[^\\w\\s]', ' ', lyrics)\n",
    "    \n",
    "    # Replace consecutive whitespaces with a single space\n",
    "    lyrics = re.sub(r'\\s+', ' ', lyrics).strip()\n",
    "    \n",
    "    # Convert all tokens to lowercase\n",
    "    lyrics = lyrics.lower()\n",
    "\n",
    "    return lyrics"
   ]
  },
  {
   "cell_type": "code",
   "execution_count": null,
   "metadata": {},
   "outputs": [
    {
     "data": {
      "text/html": [
       "<div>\n",
       "<style scoped>\n",
       "    .dataframe tbody tr th:only-of-type {\n",
       "        vertical-align: middle;\n",
       "    }\n",
       "\n",
       "    .dataframe tbody tr th {\n",
       "        vertical-align: top;\n",
       "    }\n",
       "\n",
       "    .dataframe thead th {\n",
       "        text-align: right;\n",
       "    }\n",
       "</style>\n",
       "<table border=\"1\" class=\"dataframe\">\n",
       "  <thead>\n",
       "    <tr style=\"text-align: right;\">\n",
       "      <th></th>\n",
       "      <th>name</th>\n",
       "      <th>album</th>\n",
       "      <th>year</th>\n",
       "      <th>lyrics</th>\n",
       "    </tr>\n",
       "  </thead>\n",
       "  <tbody>\n",
       "    <tr>\n",
       "      <th>155</th>\n",
       "      <td>Right to Left</td>\n",
       "      <td>Born Successful</td>\n",
       "      <td>2009</td>\n",
       "      <td>blue green jewels with the supreme fuel and lo...</td>\n",
       "    </tr>\n",
       "    <tr>\n",
       "      <th>200</th>\n",
       "      <td>Forever (Born Successful)</td>\n",
       "      <td>Born Successful</td>\n",
       "      <td>2009</td>\n",
       "      <td>it may not mean nothing to yall but understand...</td>\n",
       "    </tr>\n",
       "    <tr>\n",
       "      <th>189</th>\n",
       "      <td>The Winner</td>\n",
       "      <td>Born Successful</td>\n",
       "      <td>2009</td>\n",
       "      <td>i m performing tonight you know that shit gone...</td>\n",
       "    </tr>\n",
       "    <tr>\n",
       "      <th>181</th>\n",
       "      <td>I Do This</td>\n",
       "      <td>Born Successful</td>\n",
       "      <td>2009</td>\n",
       "      <td>uh shits all good the deal got signed and my s...</td>\n",
       "    </tr>\n",
       "    <tr>\n",
       "      <th>120</th>\n",
       "      <td>Fallen</td>\n",
       "      <td>Born Successful</td>\n",
       "      <td>2009</td>\n",
       "      <td>yeah its drake kc we was just walking just smi...</td>\n",
       "    </tr>\n",
       "  </tbody>\n",
       "</table>\n",
       "</div>"
      ],
      "text/plain": [
       "                          name            album  year  \\\n",
       "155              Right to Left  Born Successful  2009   \n",
       "200  Forever (Born Successful)  Born Successful  2009   \n",
       "189                 The Winner  Born Successful  2009   \n",
       "181                  I Do This  Born Successful  2009   \n",
       "120                     Fallen  Born Successful  2009   \n",
       "\n",
       "                                                lyrics  \n",
       "155  blue green jewels with the supreme fuel and lo...  \n",
       "200  it may not mean nothing to yall but understand...  \n",
       "189  i m performing tonight you know that shit gone...  \n",
       "181  uh shits all good the deal got signed and my s...  \n",
       "120  yeah its drake kc we was just walking just smi...  "
      ]
     },
     "metadata": {},
     "output_type": "display_data"
    }
   ],
   "source": [
    "lyrics_df['lyrics'] = lyrics_df['lyrics'].map(clean_lyrics)\n",
    "lyrics_df.head()"
   ]
  },
  {
   "cell_type": "markdown",
   "metadata": {},
   "source": [
    "As you can see, lyrics are essentially a transcript of Drake's songs now. We are done with cleaning the data!"
   ]
  },
  {
   "cell_type": "markdown",
   "metadata": {},
   "source": [
    "### High Level Overview of Dataset"
   ]
  },
  {
   "cell_type": "markdown",
   "metadata": {},
   "source": [
    "Let's look at 5 details in our dataset to gauge what data we are dealing with.\n",
    "1) How many songs did Drake release\n",
    "2) Number of albums\n",
    "3) Number of years Drake made a release\n",
    "4) First and last year of songs in this table\n",
    "5) Word count distribution of Drake's songs\n",
    "\n",
    "You can view the detailed code at https://github.com/harveyzzhao/DH140."
   ]
  },
  {
   "cell_type": "markdown",
   "metadata": {},
   "source": [
    "* Drake had **221** officially released songs and **22** albums in this dataset. Compared to other hip hop artists, Drake was one of the most productive.\n",
    "\n",
    "* This dataset spans 14 years from **2006 to 2019.**"
   ]
  },
  {
   "cell_type": "markdown",
   "metadata": {},
   "source": [
    "Drake releases more than 5 songs most years up to **30+ songs** in 2009. Hmm, he must have been really hardworking back then or something else is going on..."
   ]
  },
  {
   "cell_type": "markdown",
   "metadata": {},
   "source": [
    "![image.png](./drake-song-per-year.png)"
   ]
  },
  {
   "cell_type": "markdown",
   "metadata": {},
   "source": [
    "Drake on average has **500+** words per song. He had a mere **9 (!!!)** words for his least verbose song, and **1122** words for his most verbose song (is he writing an essay??)\n",
    "\n",
    "He was the most verbose in 2013, where he smashed his maximum word count record and did not drop below 500 words in one of his least verbose song.\n",
    "He visibly spiked his word count from 2013 to 2015. It just happened to be the 3 years before his most successful years in terms of new listener count, spotify streams and number of songs on billboard top 100."
   ]
  },
  {
   "cell_type": "markdown",
   "metadata": {},
   "source": [
    "![image.png](./drake-word-count-distribution.png)"
   ]
  },
  {
   "cell_type": "markdown",
   "metadata": {},
   "source": [
    "I was interested to see his most verbose songs and least verbose songs. Here is a breakdown of the top 5 most verbose and the top 5 least verbose songs."
   ]
  },
  {
   "cell_type": "markdown",
   "metadata": {},
   "source": [
    "![image.png](./top-verbose-songs.png)"
   ]
  },
  {
   "cell_type": "markdown",
   "metadata": {},
   "source": [
    "### Focused Analysis"
   ]
  },
  {
   "cell_type": "markdown",
   "metadata": {},
   "source": [
    "Now we have analyzed word count of Drake's songs, and his productivity over the years, let's dive into his song's emotions.\n",
    "\n",
    "To analyze Drake's lyrics and identify distinct periods in his music career, we will follow a structured approach focusing on sentiment analysis, keyword analysis, and lexical diversity.\n",
    "#### sentiment analysis\n",
    "First, we will use ntlk to break each song's lyrics into words and use ntlk's opinion lexicon to get the sentiment of each word in lyrics. Then, we will add up the sentiment score of every word and compare all songs into a barchart. Then, we will model his 200+ songs with a trendline.\n",
    "\n",
    "#### How to find distinct periods\n",
    "To identify distinct periods, we will combine the results from sentiment analysis, keyword frequency, and lexical diversity into a single dataset. Using clustering algorithms like K-means, we will segment the songs into groups based on these features, revealing natural groupings that indicate different phases in Drake's music career. Through these detailed analyses, we aim to provide a comprehensive understanding of how Drake's sentiment has evolved over time."
   ]
  },
  {
   "cell_type": "markdown",
   "metadata": {},
   "source": [
    "#### Sentiment Analysis"
   ]
  },
  {
   "cell_type": "markdown",
   "metadata": {},
   "source": [
    "We are using two different sentiment analyzers, **VADER** and nltk's **opinion lexicon** to get a more unbiased opinion of Drake's lyrics. First, we will use Vader's sentiment analyzer to model the sentiment of Drake's songs. **VADER (Valence Aware Dictionary and sEntiment Reasoner)** is designed for analyzing sentiment in **social media** texts. It combines a sentiment lexicon with rules to handle punctuation, capitalization, and intensity modifiers, making it effective for informal text analysis. \n",
    "\n",
    "**Why I chose Vader for sentiment analysis**\n",
    "\n",
    "VADER is well-suited for analyzing Drake's lyrics due to its adaptability to social media language, ability to capture nuances in sentiment, and straightforward implementation. It efficiently quantifies sentiment, handling elements like slang, emphasis, and intensity, which are common in song lyrics."
   ]
  },
  {
   "cell_type": "code",
   "execution_count": null,
   "metadata": {},
   "outputs": [
    {
     "name": "stderr",
     "output_type": "stream",
     "text": [
      "[nltk_data] Downloading package stopwords to\n",
      "[nltk_data]     /Users/harvey/nltk_data...\n",
      "[nltk_data]   Package stopwords is already up-to-date!\n",
      "[nltk_data] Downloading package vader_lexicon to\n",
      "[nltk_data]     /Users/harvey/nltk_data...\n",
      "[nltk_data]   Package vader_lexicon is already up-to-date!\n"
     ]
    },
    {
     "data": {
      "text/plain": [
       "True"
      ]
     },
     "metadata": {},
     "output_type": "display_data"
    }
   ],
   "source": [
    "import nltk\n",
    "import matplotlib.pyplot as plt\n",
    "\n",
    "from nltk.tokenize import word_tokenize\n",
    "from nltk.sentiment import vader\n",
    "from nltk.corpus import stopwords\n",
    "from nltk.stem.porter import PorterStemmer\n",
    "\n",
    "nltk.download(\"stopwords\")\n",
    "nltk.download(\"vader_lexicon\")"
   ]
  },
  {
   "cell_type": "code",
   "execution_count": null,
   "metadata": {},
   "outputs": [],
   "source": [
    "stopwords_set = set(stopwords.words(\"english\"))\n",
    "sentiment_analyzer = vader.SentimentIntensityAnalyzer()"
   ]
  },
  {
   "cell_type": "code",
   "execution_count": null,
   "metadata": {},
   "outputs": [
    {
     "data": {
      "text/plain": [
       "<BarContainer object of 221 artists>"
      ]
     },
     "metadata": {},
     "output_type": "display_data"
    },
    {
     "data": {
      "image/png": "[encoded data removed]",
      "text/plain": [
       "<Figure size 640x480 with 1 Axes>"
      ]
     },
     "metadata": {},
     "output_type": "display_data"
    }
   ],
   "source": [
    "import pandas as pd\n",
    "df = pd.read_csv(\"lyrics.csv\")\n",
    "df['tokenized'] = df['lyrics'].apply(word_tokenize)\n",
    "\n",
    "sentiment_scores_vader = []\n",
    "for tokens in df[\"tokenized\"]:\n",
    "  song_sentiment_score = sum([sentiment_analyzer.polarity_scores(token)[\"compound\"] for token in tokens])\n",
    "  sentiment_scores_vader.append(song_sentiment_score)\n",
    "\n",
    "plt.bar(list(range(len(df))), sentiment_scores_vader)"
   ]
  },
  {
   "cell_type": "markdown",
   "metadata": {},
   "source": [
    "This graph doesn't make much sense. Each bar is very thin and we can't easily see a pattern without having release date as the x axis. Let's group each song's sentiment by year of release and use a box plot to show distribution of each year's sentiment."
   ]
  },
  {
   "cell_type": "code",
   "execution_count": null,
   "metadata": {},
   "outputs": [
    {
     "data": {
      "image/png": "[encoded data removed]",
      "text/plain": [
       "<Figure size 1000x700 with 1 Axes>"
      ]
     },
     "metadata": {},
     "output_type": "display_data"
    }
   ],
   "source": [
    "df[\"sentiment_scores_vader\"] = sentiment_scores_vader\n",
    "\n",
    "df_boxplot = df.groupby(\"year\")[\"sentiment_scores_vader\"].apply(list).reset_index(name=\"scores\")\n",
    "\n",
    "# Create a boxplot for each year's sentiment scores\n",
    "plt.figure(figsize=(10, 7))\n",
    "plt.boxplot(df_boxplot['scores'], labels=df_boxplot['year'])\n",
    "plt.xlabel('Year')\n",
    "plt.ylabel('Sentiment Scores')\n",
    "plt.title('Boxplot of Sentiment Scores per Year')\n",
    "plt.show()"
   ]
  },
  {
   "cell_type": "markdown",
   "metadata": {},
   "source": [
    "Now we can clearly see how sentiment roughly changes year by year. From 2006 to 2007, Drake kept his lyrics positive, with the most negative song being much more positive than the most negative quartile of songs in 2014. This stage also displayed quite a small variation, especially 2007 where the middle 50% of songs are the most similar in sentiment among all of his songs. To see what it means to be neutral in sentiment (0 sentiment score), positive (0-5), and negative (0 to -5), let's pick 2 songs from each category."
   ]
  },
  {
   "cell_type": "code",
   "execution_count": null,
   "metadata": {},
   "outputs": [
    {
     "name": "stdout",
     "output_type": "stream",
     "text": [
      "Neutral songs:  ['Marvin’s Room' 'November 18th']\n",
      "Positive songs:  ['Glow' 'Asthma Team']\n",
      "Negative songs:  ['Stunt Hard' 'Karaoke']\n"
     ]
    }
   ],
   "source": [
    "# Select 2 songs with neutral sentiment\n",
    "neutral_songs = df[(df['sentiment_scores_vader'] <= 0.2) & (df[\"sentiment_scores_vader\"] > -0.2)].sample(2)['name']\n",
    "\n",
    "# Select 2 songs with positive sentiment\n",
    "positive_songs = df[(df['sentiment_scores_vader'] > 0.2) & (df['sentiment_scores_vader'] <= 5)].sample(2)['name']\n",
    "\n",
    "# Select 2 songs with negative sentiment\n",
    "negative_songs = df[(df['sentiment_scores_vader'] <= 0.2) & (df['sentiment_scores_vader'] >= -5)].sample(2)['name']\n",
    "\n",
    "print(\"Neutral songs: \", neutral_songs.values)\n",
    "print(\"Positive songs: \", positive_songs.values)\n",
    "print(\"Negative songs: \", negative_songs.values)"
   ]
  },
  {
   "cell_type": "markdown",
   "metadata": {},
   "source": [
    "We choose *Nothing Into Somethings* as neutral song,* Hotline Bling* as positive song, and *I Do This* as negative song.\n",
    "\n",
    "They have a score of 0.13, 4.56 and -1.78. Let's investigate what each number means."
   ]
  },
  {
   "cell_type": "code",
   "execution_count": null,
   "metadata": {},
   "outputs": [
    {
     "name": "stdout",
     "output_type": "stream",
     "text": [
      "52    0.1313\n",
      "Name: sentiment_scores_vader, dtype: float64\n",
      "200    4.5687\n",
      "Name: sentiment_scores_vader, dtype: float64\n",
      "3   -1.7778\n",
      "Name: sentiment_scores_vader, dtype: float64\n"
     ]
    }
   ],
   "source": [
    "print(df.loc[df[\"name\"] == \"Nothings Into Somethings\"][\"sentiment_scores_vader\"])\n",
    "\n",
    "print(df.loc[df[\"name\"] == \"Hotline Bling\"][\"sentiment_scores_vader\"])\n",
    "\n",
    "print(df.loc[df[\"name\"] == \"I Do This\"][\"sentiment_scores_vader\"])"
   ]
  },
  {
   "cell_type": "markdown",
   "metadata": {},
   "source": [
    "#### Neutral Song - *Nothing Into Somethings* analysis"
   ]
  },
  {
   "cell_type": "markdown",
   "metadata": {},
   "source": [
    "#### Nothing into Something Lyrics Analysis\n",
    "\n",
    "Drake's song \"Nothing Into Somethings\" is generally viewed as having a neutral to slightly negative connotation. The song deals with themes of reflection and the complexities of relationships and success. \n",
    "\n",
    "A sentiment score of near 0 means Drake did not mention any violence, suicidal or generally depressing topics. Drake simply told his personal issues - a failed relationship and the emotional toll it takes."
   ]
  },
  {
   "cell_type": "markdown",
   "metadata": {},
   "source": [
    "#### Nothing Into Somethings Lyrics:\n",
    "You'll hear some slow tracks, you know what I'm sayin'?\n",
    "\n",
    "With, like, some pimpin' to it, or somethin'\n",
    "\n",
    "That you can relax, pop a top to, or somethin'?\n",
    "\n",
    "Big cup of Act', I'm drowsy\n",
    "\n",
    "I'm still posted up where you first found me\n",
    "\n",
    "Did I just read that you just got engaged on me?\n",
    "\n",
    "I heard from your friend, you couldn't even tell me\n",
    "\n",
    "Or better yet wait on me\n",
    "\n",
    "Nah, sha-nah-nah-nah-nah-nah-nah\n",
    "Sha-nah-nah-nah-nah-nah-nah\n",
    "\n",
    "Can't just leave it off that way\n",
    "Sha-nah-nah-nah-nah-nah-nah\n",
    "Sha-nah-nah-nah (nah)\n",
    "\n",
    "Can't just leave it off that way, nah\n",
    "Least, do I get an invitation or something?\n",
    "\n",
    "A statement or something?\n",
    "\n",
    "Ask about that, you would say it was nothing\n",
    "\n",
    "But here's another nothing that you made into something\n",
    "\n",
    "Can't just leave it off that way"
   ]
  },
  {
   "cell_type": "markdown",
   "metadata": {},
   "source": [
    "#### Positive Song - *Hotline Bling* Analysis\n",
    "\"Hotline Bling\" is positive because it combines Drake's reflection on an ex-partner with an upbeating tone. Drake wrote playful lyrics and reminisced about the girl's independent past. However, in the lyrics he wished nothing bad for the girl and wondered how she was now.\n",
    "\n",
    "Most importantly, Drake did not express his resentment towards his ex or insulted amnyone. Instead, he called his ex \"my love\", and descrived good times Drake and his ex spent. I would qualify this song as a positive for sure."
   ]
  },
  {
   "cell_type": "markdown",
   "metadata": {},
   "source": [
    "#### Hotline Bling Lyrics\n",
    "You used to call me on my\n",
    "\n",
    "You used to, you used to\n",
    "\n",
    "Yeah\n",
    "\n",
    "You used to call me on my cell phone\n",
    "\n",
    "Late night when you need my love\n",
    "\n",
    "Call me on my cell phone\n",
    "\n",
    "Late night when you need my love\n"
   ]
  },
  {
   "cell_type": "markdown",
   "metadata": {},
   "source": []
  }
 ],
 "metadata": {
  "kernelspec": {
   "display_name": "Python 3",
   "language": "python",
   "name": "python3"
  },
  "language_info": {
   "name": "python",
   "version": "3.11.1"
  }
 },
 "nbformat": 4,
 "nbformat_minor": 2
}
